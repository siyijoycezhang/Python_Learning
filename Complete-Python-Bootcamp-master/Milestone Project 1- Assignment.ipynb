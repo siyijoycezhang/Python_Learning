{
 "cells": [
  {
   "cell_type": "markdown",
   "metadata": {},
   "source": [
    "# Milestone Project 1\n",
    "## Congratulations on making it to your first milestone!\n",
    "You've already learned a ton and are ready to work on a real project.\n",
    "\n",
    "Your assignment: Create a Tic Tac Toe game. You are free to use any IDE you like.\n",
    "\n",
    "Here are the requirements:\n",
    "\n",
    "* 2 players should be able to play the game (both sitting at the same computer)\n",
    "* The board should be printed out every time a player makes a move\n",
    "* You should be able to accept input of the player position and then place a symbol on the board\n",
    "\n",
    "Feel free to use Google to help you figure anything out (but don't just Google \"Tic Tac Toe in Python\" otherwise you won't learn anything!) Keep in mind that this project can take anywhere between several hours to several days.\n",
    "\n",
    "There are 4 Jupyter Notebooks related to this assignment:\n",
    "\n",
    "* This Assignment Notebook\n",
    "* A \"Walk-through Steps Workbook\" Notebook\n",
    "* A \"Walk-through Solution\" Notebook\n",
    "* An \"Advanced Solution\" Notebook\n",
    "\n",
    "I encourage you to just try to start the project on your own without referencing any of the notebooks. If you get stuck, check out the next lecture which is a text lecture with helpful hints and steps. If you're still stuck after that, then check out the walk-through Steps Workbook, which breaks up the project in steps for you to solve. Still stuck? Then check out the walk-through solution video for more help on approaching the project!"
   ]
  },
  {
   "cell_type": "markdown",
   "metadata": {},
   "source": [
    "There are parts of this that will be a struggle...and that is good! I have complete faith that if you have made it this far through the course you have all the tools and knowledge to tackle this project. Remember, its totally open book, so take your time, do a little research, and remember:\n",
    "\n",
    "## HAVE FUN!"
   ]
  },
  {
   "cell_type": "markdown",
   "metadata": {},
   "source": [
    "# Prepare functions"
   ]
  },
  {
   "cell_type": "code",
   "execution_count": null,
   "metadata": {
    "collapsed": true
   },
   "outputs": [],
   "source": [
    "def player_pos_enter():\n",
    "    # player x enter position\n",
    "    while True:\n",
    "        try:\n",
    "            pos = int(input('Player, Enter your position(0-8): '))\n",
    "        except:\n",
    "            print('Please enter a 0-8 integer!')\n",
    "            continue\n",
    "        else:\n",
    "            break\n",
    "    return pos"
   ]
  },
  {
   "cell_type": "code",
   "execution_count": null,
   "metadata": {
    "collapsed": true
   },
   "outputs": [],
   "source": [
    "def check_pos(pos):\n",
    "    # check to see if the position is between 0-8\n",
    "    if 0 <= pos <= 8:\n",
    "        return True\n",
    "    else:\n",
    "        print('Please enter a 0-8 integer!')\n",
    "        return False"
   ]
  },
  {
   "cell_type": "code",
   "execution_count": 39,
   "metadata": {
    "collapsed": true
   },
   "outputs": [],
   "source": [
    "def check_outcome(b,step):\n",
    "    # check the outcome after each step\n",
    "    if (b[0] == b[1] == b[2] == 'x') or (b[3] == b[4] == b[5] == 'x') or \\\n",
    "       (b[6] == b[7] == b[8] == 'x') or (b[0] == b[3] == b[6] == 'x') or \\\n",
    "       (b[1] == b[4] == b[7] == 'x') or (b[2] == b[5] == b[8] == 'x') or \\\n",
    "       (b[0] == b[4] == b[8] == 'x') or (b[2] == b[4] == b[6] == 'x'):\n",
    "        print('Player x Wins !!!')\n",
    "        return have_winner = True\n",
    "              \n",
    "    elif (b[0] == b[1] == b[2] == 'o') or (b[3] == b[4] == b[5] == 'o') or \\\n",
    "         (b[6] == b[7] == b[8] == 'o') or (b[0] == b[3] == b[6] == 'o') or \\\n",
    "         (b[1] == b[4] == b[7] == 'o') or (b[2] == b[5] == b[8] == 'o') or \\\n",
    "         (b[0] == b[4] == b[8] == 'o') or (b[2] == b[4] == b[6] == 'o'):\n",
    "        print('Player o wins !!!')\n",
    "        return have_winner = True\n",
    "              \n",
    "    elif step == 9:\n",
    "        print('It is a draw.')\n",
    "        \n",
    "    else:\n",
    "        print('No winner yet, continue game.')\n",
    "              "
   ]
  },
  {
   "cell_type": "code",
   "execution_count": 37,
   "metadata": {
    "collapsed": true
   },
   "outputs": [],
   "source": [
    "def print_board(b):\n",
    "    print('Game Board:\\n{} {} {}\\n{} {} {}\\n{} {} {}'.format(b[0],b[1],b[2],b[3],b[4],b[5],b[6],b[7],b[8]))"
   ]
  },
  {
   "cell_type": "markdown",
   "metadata": {},
   "source": [
    "# Tic-tac-toe Game"
   ]
  },
  {
   "cell_type": "code",
   "execution_count": null,
   "metadata": {
    "collapsed": true
   },
   "outputs": [],
   "source": [
    "# Tic-tac-toe Game\n",
    "print('Start Game: Tic-tac-toe!')\n",
    "white_board = ['0','1','2','3','4','5','6','7','8']\n",
    "print_board(white_board)\n",
    "\n",
    "board = ['_','_','_','_','_','_','_','_','_']\n",
    "step_count = 1\n",
    "\n",
    "while (step_count <= 8) or (have_winner == False):\n",
    "    \n",
    "    if step_count % 2 ==1:\n",
    "        # Player x - odd steps\n",
    "        print('Player x, your turn.')\n",
    "        pos = player_x_enter()\n",
    "        \n",
    "        while check_pos(pos) == False:\n",
    "            pos = player_x_enter()\n",
    "            \n",
    "        board[pos] = 'x'\n",
    "        print_board(board)\n",
    "        step_count += 1\n",
    "        check_outcome(board,step_count)\n",
    "        \n",
    "    else:\n",
    "        # Player o - even steps\n",
    "        print('Player o, your turn.')\n",
    "        position = player_o_enter()\n",
    "        \n",
    "        while check_pos(pos) == False:\n",
    "            pos = player_x_enter()\n",
    "            \n",
    "        board[pos] = 'o'\n",
    "        print_board(board)\n",
    "        step_count += 1\n",
    "        check_outcome(board,step_count)\n"
   ]
  },
  {
   "cell_type": "code",
   "execution_count": null,
   "metadata": {
    "collapsed": true
   },
   "outputs": [],
   "source": []
  }
 ],
 "metadata": {
  "kernelspec": {
   "display_name": "Python 3",
   "language": "python",
   "name": "python3"
  },
  "language_info": {
   "codemirror_mode": {
    "name": "ipython",
    "version": 3
   },
   "file_extension": ".py",
   "mimetype": "text/x-python",
   "name": "python",
   "nbconvert_exporter": "python",
   "pygments_lexer": "ipython3",
   "version": "3.6.2"
  }
 },
 "nbformat": 4,
 "nbformat_minor": 1
}
